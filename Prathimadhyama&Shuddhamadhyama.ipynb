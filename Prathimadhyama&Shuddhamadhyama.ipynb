{
  "nbformat": 4,
  "nbformat_minor": 0,
  "metadata": {
    "colab": {
      "name": "Prathimadhyama&Shuddhamadhyama.ipynb",
      "provenance": [],
      "collapsed_sections": [],
      "authorship_tag": "ABX9TyNvx9abQd1VgX9EMNmdTOi3",
      "include_colab_link": true
    },
    "kernelspec": {
      "name": "python3",
      "display_name": "Python 3"
    },
    "language_info": {
      "name": "python"
    }
  },
  "cells": [
    {
      "cell_type": "markdown",
      "metadata": {
        "id": "view-in-github",
        "colab_type": "text"
      },
      "source": [
        "<a href=\"https://colab.research.google.com/github/athenalobo/Music/blob/main/Prathimadhyama%26Shuddhamadhyama.ipynb\" target=\"_parent\"><img src=\"https://colab.research.google.com/assets/colab-badge.svg\" alt=\"Open In Colab\"/></a>"
      ]
    },
    {
      "cell_type": "markdown",
      "source": [
        "Installing Packages"
      ],
      "metadata": {
        "id": "CXQiV06xqyBm"
      }
    },
    {
      "cell_type": "code",
      "source": [
        "!pip install kaggle\n",
        "!pip install python_speech_features\n",
        "!pip install hmmlearn\n",
        "!pip install pydub\n",
        "from python_speech_features import mfcc, logfbank\n",
        "from scipy.io import wavfile\n",
        "import numpy as np\n",
        "import matplotlib.pyplot as plt\n",
        "from hmmlearn import hmm\n",
        "from sklearn.metrics import confusion_matrix\n",
        "import itertools\n",
        "import os"
      ],
      "metadata": {
        "colab": {
          "base_uri": "https://localhost:8080/"
        },
        "id": "DublC8hXFE5a",
        "outputId": "b67bc3da-62f0-4bb9-f335-56e32b38c33c"
      },
      "execution_count": 1,
      "outputs": [
        {
          "output_type": "stream",
          "name": "stdout",
          "text": [
            "Requirement already satisfied: kaggle in /usr/local/lib/python3.7/dist-packages (1.5.12)\n",
            "Requirement already satisfied: six>=1.10 in /usr/local/lib/python3.7/dist-packages (from kaggle) (1.15.0)\n",
            "Requirement already satisfied: certifi in /usr/local/lib/python3.7/dist-packages (from kaggle) (2021.10.8)\n",
            "Requirement already satisfied: python-slugify in /usr/local/lib/python3.7/dist-packages (from kaggle) (5.0.2)\n",
            "Requirement already satisfied: requests in /usr/local/lib/python3.7/dist-packages (from kaggle) (2.23.0)\n",
            "Requirement already satisfied: urllib3 in /usr/local/lib/python3.7/dist-packages (from kaggle) (1.24.3)\n",
            "Requirement already satisfied: tqdm in /usr/local/lib/python3.7/dist-packages (from kaggle) (4.62.3)\n",
            "Requirement already satisfied: python-dateutil in /usr/local/lib/python3.7/dist-packages (from kaggle) (2.8.2)\n",
            "Requirement already satisfied: text-unidecode>=1.3 in /usr/local/lib/python3.7/dist-packages (from python-slugify->kaggle) (1.3)\n",
            "Requirement already satisfied: chardet<4,>=3.0.2 in /usr/local/lib/python3.7/dist-packages (from requests->kaggle) (3.0.4)\n",
            "Requirement already satisfied: idna<3,>=2.5 in /usr/local/lib/python3.7/dist-packages (from requests->kaggle) (2.10)\n",
            "Requirement already satisfied: python_speech_features in /usr/local/lib/python3.7/dist-packages (0.6)\n",
            "Requirement already satisfied: hmmlearn in /usr/local/lib/python3.7/dist-packages (0.2.6)\n",
            "Requirement already satisfied: scikit-learn>=0.16 in /usr/local/lib/python3.7/dist-packages (from hmmlearn) (1.0.2)\n",
            "Requirement already satisfied: scipy>=0.19 in /usr/local/lib/python3.7/dist-packages (from hmmlearn) (1.4.1)\n",
            "Requirement already satisfied: numpy>=1.10 in /usr/local/lib/python3.7/dist-packages (from hmmlearn) (1.19.5)\n",
            "Requirement already satisfied: joblib>=0.11 in /usr/local/lib/python3.7/dist-packages (from scikit-learn>=0.16->hmmlearn) (1.1.0)\n",
            "Requirement already satisfied: threadpoolctl>=2.0.0 in /usr/local/lib/python3.7/dist-packages (from scikit-learn>=0.16->hmmlearn) (3.1.0)\n",
            "Requirement already satisfied: pydub in /usr/local/lib/python3.7/dist-packages (0.25.1)\n"
          ]
        }
      ]
    },
    {
      "cell_type": "markdown",
      "source": [
        "Importing the dataset through drive"
      ],
      "metadata": {
        "id": "BuE2JMwjq2hd"
      }
    },
    {
      "cell_type": "code",
      "source": [
        "from google.colab import drive\n",
        "drive.mount('/content/drive')"
      ],
      "metadata": {
        "colab": {
          "base_uri": "https://localhost:8080/"
        },
        "id": "KAulT08pFJ4L",
        "outputId": "9cfee5ed-cf66-4706-e644-bdec58e67082"
      },
      "execution_count": 2,
      "outputs": [
        {
          "output_type": "stream",
          "name": "stdout",
          "text": [
            "Drive already mounted at /content/drive; to attempt to forcibly remount, call drive.mount(\"/content/drive\", force_remount=True).\n"
          ]
        }
      ]
    },
    {
      "cell_type": "markdown",
      "source": [
        "Picking one song from the dataset(PRA 1) and extracting mfcc and filterbank features (mfcc is used to concisely represent song waveforms and filterbanks are applied to extract features)"
      ],
      "metadata": {
        "id": "J7H91hS-rFR1"
      }
    },
    {
      "cell_type": "code",
      "source": [
        "sampling_freq, audio = wavfile.read(\"/content/drive/MyDrive/P&S/Train/p/PRA 1.wav\")\n",
        "\n",
        "mfcc_features = mfcc(audio, sampling_freq)\n",
        "filterbank_features = logfbank(audio, sampling_freq)"
      ],
      "metadata": {
        "colab": {
          "base_uri": "https://localhost:8080/"
        },
        "id": "DMt9zwPQFSfF",
        "outputId": "6caae03d-f4df-44ef-de84-b7f7753ef3a7"
      },
      "execution_count": 3,
      "outputs": [
        {
          "output_type": "stream",
          "name": "stderr",
          "text": [
            "WARNING:root:frame length (1103) is greater than FFT size (512), frame will be truncated. Increase NFFT to avoid.\n",
            "WARNING:root:frame length (1103) is greater than FFT size (512), frame will be truncated. Increase NFFT to avoid.\n"
          ]
        }
      ]
    },
    {
      "cell_type": "markdown",
      "source": [
        "Displaying the shapes of the extracted features"
      ],
      "metadata": {
        "id": "61qpW4NkFZlW"
      }
    },
    {
      "cell_type": "code",
      "source": [
        "print ('\\nMFCC:\\nNumber of windows =', mfcc_features.shape[0])\n",
        "print ('Length of each feature =', mfcc_features.shape[1])\n",
        "print ('\\nFilter bank:\\nNumber of windows =', filterbank_features.shape[0])\n",
        "print ('Length of each feature =', filterbank_features.shape[1])"
      ],
      "metadata": {
        "colab": {
          "base_uri": "https://localhost:8080/"
        },
        "id": "0t_LKZkgFcYF",
        "outputId": "5e4bd309-a229-44e2-8cf2-fa5e3a8320de"
      },
      "execution_count": 4,
      "outputs": [
        {
          "output_type": "stream",
          "name": "stdout",
          "text": [
            "\n",
            "MFCC:\n",
            "Number of windows = 6001\n",
            "Length of each feature = 13\n",
            "\n",
            "Filter bank:\n",
            "Number of windows = 6001\n",
            "Length of each feature = 26\n"
          ]
        }
      ]
    },
    {
      "cell_type": "markdown",
      "source": [
        "Visualising the mfcc features for the first song of each genre"
      ],
      "metadata": {
        "id": "yt4m--47rpac"
      }
    },
    {
      "cell_type": "code",
      "source": [
        "import glob\n",
        "import os.path as path\n",
        "genre_list = [\"Prathimadhyama\",\"Shuddhamadhyama\"]\n",
        "print(len(genre_list))\n",
        "figure = plt.figure(figsize=(20,3))\n",
        "for idx ,genre in enumerate(genre_list): \n",
        "   example_data_path = '/content/drive/MyDrive/P&S/Train' \n",
        "   print(example_data_path)\n",
        "   file_paths = glob.glob(path.join(example_data_path, genre, '*.wav'))\n",
        "   print(file_paths)\n",
        "   sampling_freq, audio = wavfile.read(file_paths[0])\n",
        "   mfcc_features = mfcc(audio, sampling_freq, nfft=1500)\n",
        "   print(file_paths[0], mfcc_features.shape[0])\n",
        "   plt.yscale('linear')\n",
        "   plt.matshow((mfcc_features.T)[:,:300])\n",
        "   plt.text(150, -10, genre, horizontalalignment='center', fontsize=20)\n",
        " \n",
        "plt.yscale('linear')\n",
        "plt.show()"
      ],
      "metadata": {
        "colab": {
          "base_uri": "https://localhost:8080/",
          "height": 448
        },
        "id": "ZQbtK7qjFgf-",
        "outputId": "0828002f-246b-42bf-c306-0031ae950bd4"
      },
      "execution_count": 16,
      "outputs": [
        {
          "output_type": "stream",
          "name": "stdout",
          "text": [
            "2\n",
            "/content/drive/MyDrive/P&S/Train\n",
            "['/content/drive/MyDrive/P&S/Train/Prathimadhyama/PRA 3.wav', '/content/drive/MyDrive/P&S/Train/Prathimadhyama/PRA 7.wav', '/content/drive/MyDrive/P&S/Train/Prathimadhyama/PRA 10.wav', '/content/drive/MyDrive/P&S/Train/Prathimadhyama/PRA 1.wav', '/content/drive/MyDrive/P&S/Train/Prathimadhyama/PRA 9.wav', '/content/drive/MyDrive/P&S/Train/Prathimadhyama/PRA 8.wav', '/content/drive/MyDrive/P&S/Train/Prathimadhyama/PRA 5.wav', '/content/drive/MyDrive/P&S/Train/Prathimadhyama/PRA 6.wav', '/content/drive/MyDrive/P&S/Train/Prathimadhyama/PRA 4.wav', '/content/drive/MyDrive/P&S/Train/Prathimadhyama/PRA 2.wav']\n",
            "/content/drive/MyDrive/P&S/Train/Prathimadhyama/PRA 3.wav 5999\n",
            "/content/drive/MyDrive/P&S/Train\n",
            "['/content/drive/MyDrive/P&S/Train/Shuddhamadhyama/SUD 3.wav', '/content/drive/MyDrive/P&S/Train/Shuddhamadhyama/SUD 8.wav', '/content/drive/MyDrive/P&S/Train/Shuddhamadhyama/SUD 5.wav', '/content/drive/MyDrive/P&S/Train/Shuddhamadhyama/SUD 1.wav', '/content/drive/MyDrive/P&S/Train/Shuddhamadhyama/SUD 7.wav', '/content/drive/MyDrive/P&S/Train/Shuddhamadhyama/SUD 2.wav', '/content/drive/MyDrive/P&S/Train/Shuddhamadhyama/SUD 9.wav', '/content/drive/MyDrive/P&S/Train/Shuddhamadhyama/SUD 6.wav', '/content/drive/MyDrive/P&S/Train/Shuddhamadhyama/SUD 10.wav']\n",
            "/content/drive/MyDrive/P&S/Train/Shuddhamadhyama/SUD 3.wav 6006\n"
          ]
        },
        {
          "output_type": "display_data",
          "data": {
            "image/png": "[encoded data removed]",
            "text/plain": [
              "<Figure size 1440x216 with 1 Axes>"
            ]
          },
          "metadata": {
            "needs_background": "light"
          }
        },
        {
          "output_type": "display_data",
          "data": {
            "image/png": "[encoded data removed]",
            "text/plain": [
              "<Figure size 1152x144 with 1 Axes>"
            ]
          },
          "metadata": {
            "needs_background": "light"
          }
        },
        {
          "output_type": "display_data",
          "data": {
            "image/png": "[encoded data removed]",
            "text/plain": [
              "<Figure size 1152x144 with 1 Axes>"
            ]
          },
          "metadata": {
            "needs_background": "light"
          }
        }
      ]
    },
    {
      "cell_type": "markdown",
      "source": [
        "Building a class to handle hmm training"
      ],
      "metadata": {
        "id": "AA2xQundFkmX"
      }
    },
    {
      "cell_type": "code",
      "source": [
        "class Trainer(object):\n",
        "    def __init__(self, model_name='GaussianHMM', n_components=4, cov_type='diag', n_iter=1000):\n",
        "        self.model_name = model_name\n",
        "        self.n_components = n_components\n",
        "        self.cov_type = cov_type\n",
        "        self.n_iter = n_iter\n",
        "        self.models = []\n",
        "\n",
        "        if self.model_name == 'GaussianHMM':\n",
        "            self.model = hmm.GaussianHMM(n_components=self.n_components,\n",
        "                                         covariance_type=self.cov_type, n_iter=self.n_iter)\n",
        "        else:\n",
        "            raise TypeError('Invalid model type')\n",
        "\n",
        "    # X is a 2D numpy array where each row is 13D\n",
        "    def train(self, X):\n",
        "        np.seterr(all='ignore')\n",
        "        self.models.append(self.model.fit(X))\n",
        "\n",
        "    # Run the model on input data\n",
        "    def get_score(self, input_data):\n",
        "        return self.model.score(input_data)\n"
      ],
      "metadata": {
        "id": "Hqcq0RVZFqLn"
      },
      "execution_count": 31,
      "outputs": []
    },
    {
      "cell_type": "markdown",
      "source": [
        "training hidden markov models (to do this we iterate over the songs in the subfolder in order to extract the features and append it to a variable. We should store all trained HMM models, so we will be able to predict the class of unseen songs)"
      ],
      "metadata": {
        "id": "Zvc5TMV6FsuD"
      }
    },
    {
      "cell_type": "code",
      "source": [
        "    hmm_models = []\n",
        "    input_folder = '/content/drive/MyDrive/P&S/Train'\n",
        "\n",
        "    # Parse the input directory\n",
        "    for dirname in os.listdir(input_folder):\n",
        "        # Get the name of the subfolder\n",
        "        subfolder = os.path.join(input_folder, dirname)\n",
        "\n",
        "        if not os.path.isdir(subfolder):\n",
        "            continue\n",
        "\n",
        "        # Extract the label\n",
        "        label = subfolder[subfolder.rfind('/') + 1:]\n",
        "\n",
        "        # Initialize variables\n",
        "        X = np.array([])\n",
        "        y_words = []\n",
        "\n",
        "        # Iterate through the audio files (leaving 1 file for testing in each class)\n",
        "        for filename in [x for x in os.listdir(subfolder) if x.endswith('.wav')][:-1]:\n",
        "            # Read the input file\n",
        "            filepath = os.path.join(subfolder, filename)\n",
        "            sampling_freq, audio = wavfile.read(filepath)\n",
        "\n",
        "            # Extract MFCC features\n",
        "            mfcc_features = mfcc(audio, sampling_freq)\n",
        "\n",
        "            # Append to the variable X\n",
        "            if len(X) == 0:\n",
        "                X = mfcc_features\n",
        "            else:\n",
        "                X = np.append(X, mfcc_features, axis=0)\n",
        "\n",
        "            # Append the label\n",
        "            y_words.append(label)\n",
        "\n",
        "        print('X.shape =', X.shape)\n",
        "        # Train and save HMM model\n",
        "        hmm_trainer = Trainer(n_components=10)\n",
        "        hmm_trainer.train(X)\n",
        "        hmm_models.append((hmm_trainer, label))\n",
        "        hmm_trainer = None"
      ],
      "metadata": {
        "colab": {
          "base_uri": "https://localhost:8080/"
        },
        "id": "wC9ICnhCFthJ",
        "outputId": "35aa5a12-aac4-4a7f-f358-786f1ac4d196"
      },
      "execution_count": 32,
      "outputs": [
        {
          "output_type": "stream",
          "name": "stderr",
          "text": [
            "WARNING:root:frame length (1103) is greater than FFT size (512), frame will be truncated. Increase NFFT to avoid.\n",
            "WARNING:root:frame length (1103) is greater than FFT size (512), frame will be truncated. Increase NFFT to avoid.\n",
            "WARNING:root:frame length (1103) is greater than FFT size (512), frame will be truncated. Increase NFFT to avoid.\n",
            "WARNING:root:frame length (1103) is greater than FFT size (512), frame will be truncated. Increase NFFT to avoid.\n",
            "WARNING:root:frame length (1103) is greater than FFT size (512), frame will be truncated. Increase NFFT to avoid.\n",
            "WARNING:root:frame length (1103) is greater than FFT size (512), frame will be truncated. Increase NFFT to avoid.\n",
            "WARNING:root:frame length (1103) is greater than FFT size (512), frame will be truncated. Increase NFFT to avoid.\n",
            "WARNING:root:frame length (1103) is greater than FFT size (512), frame will be truncated. Increase NFFT to avoid.\n",
            "WARNING:root:frame length (1103) is greater than FFT size (512), frame will be truncated. Increase NFFT to avoid.\n",
            "WARNING:root:frame length (1103) is greater than FFT size (512), frame will be truncated. Increase NFFT to avoid.\n",
            "WARNING:root:frame length (1103) is greater than FFT size (512), frame will be truncated. Increase NFFT to avoid.\n",
            "WARNING:root:frame length (1103) is greater than FFT size (512), frame will be truncated. Increase NFFT to avoid.\n",
            "WARNING:root:frame length (1103) is greater than FFT size (512), frame will be truncated. Increase NFFT to avoid.\n",
            "WARNING:root:frame length (1103) is greater than FFT size (512), frame will be truncated. Increase NFFT to avoid.\n",
            "WARNING:root:frame length (1103) is greater than FFT size (512), frame will be truncated. Increase NFFT to avoid.\n",
            "WARNING:root:frame length (1103) is greater than FFT size (512), frame will be truncated. Increase NFFT to avoid.\n",
            "WARNING:root:frame length (1103) is greater than FFT size (512), frame will be truncated. Increase NFFT to avoid.\n",
            "WARNING:root:frame length (1103) is greater than FFT size (512), frame will be truncated. Increase NFFT to avoid.\n"
          ]
        },
        {
          "output_type": "stream",
          "name": "stdout",
          "text": [
            "X.shape = (108089, 13)\n"
          ]
        },
        {
          "output_type": "stream",
          "name": "stderr",
          "text": [
            "WARNING:root:frame length (1103) is greater than FFT size (512), frame will be truncated. Increase NFFT to avoid.\n",
            "WARNING:root:frame length (1103) is greater than FFT size (512), frame will be truncated. Increase NFFT to avoid.\n",
            "WARNING:root:frame length (1103) is greater than FFT size (512), frame will be truncated. Increase NFFT to avoid.\n",
            "WARNING:root:frame length (1103) is greater than FFT size (512), frame will be truncated. Increase NFFT to avoid.\n",
            "WARNING:root:frame length (1103) is greater than FFT size (512), frame will be truncated. Increase NFFT to avoid.\n",
            "WARNING:root:frame length (1103) is greater than FFT size (512), frame will be truncated. Increase NFFT to avoid.\n",
            "WARNING:root:frame length (1103) is greater than FFT size (512), frame will be truncated. Increase NFFT to avoid.\n",
            "WARNING:root:frame length (1103) is greater than FFT size (512), frame will be truncated. Increase NFFT to avoid.\n",
            "WARNING:root:frame length (1103) is greater than FFT size (512), frame will be truncated. Increase NFFT to avoid.\n",
            "WARNING:root:frame length (1103) is greater than FFT size (512), frame will be truncated. Increase NFFT to avoid.\n",
            "WARNING:root:frame length (1103) is greater than FFT size (512), frame will be truncated. Increase NFFT to avoid.\n",
            "WARNING:root:frame length (1103) is greater than FFT size (512), frame will be truncated. Increase NFFT to avoid.\n",
            "WARNING:root:frame length (1103) is greater than FFT size (512), frame will be truncated. Increase NFFT to avoid.\n",
            "WARNING:root:frame length (1103) is greater than FFT size (512), frame will be truncated. Increase NFFT to avoid.\n",
            "WARNING:root:frame length (1103) is greater than FFT size (512), frame will be truncated. Increase NFFT to avoid.\n",
            "WARNING:root:frame length (1103) is greater than FFT size (512), frame will be truncated. Increase NFFT to avoid.\n",
            "WARNING:root:frame length (1103) is greater than FFT size (512), frame will be truncated. Increase NFFT to avoid.\n",
            "WARNING:root:frame length (1103) is greater than FFT size (512), frame will be truncated. Increase NFFT to avoid.\n",
            "WARNING:root:frame length (1103) is greater than FFT size (512), frame will be truncated. Increase NFFT to avoid.\n"
          ]
        },
        {
          "output_type": "stream",
          "name": "stdout",
          "text": [
            "X.shape = (113991, 13)\n"
          ]
        }
      ]
    },
    {
      "cell_type": "markdown",
      "source": [
        "Evaluating our models (to do this, we iterate over the test dataset subfolders and extract the features. Then we iterate through all HMM models and pick the one with the highest score)"
      ],
      "metadata": {
        "id": "vSHgeDYMFy_W"
      }
    },
    {
      "cell_type": "code",
      "source": [
        "input_folder = '/content/drive/MyDrive/P&S/Test'\n",
        "real_labels = []\n",
        "pred_labels = []\n",
        "for dirname in os.listdir(input_folder):\n",
        "\n",
        "  subfolder = os.path.join(input_folder, dirname)\n",
        "  if not os.path.isdir(subfolder):\n",
        "    continue\n",
        "  # Extract the label\n",
        "  label_real = subfolder[subfolder.rfind('/') + 1:]\n",
        "\n",
        "  for filename in [x for x in os.listdir(subfolder) if x.endswith('.wav')]:\n",
        "    real_labels.append(label_real)\n",
        "    filepath = os.path.join(subfolder, filename)\n",
        "    sampling_freq, audio = wavfile.read(filepath)\n",
        "    mfcc_features = mfcc(audio, sampling_freq)\n",
        "    max_score = -9999999999999999999\n",
        "    output_label = None\n",
        "    for item in hmm_models:\n",
        "       hmm_model, label = item\n",
        "       score = hmm_model.get_score(mfcc_features)\n",
        "       if score > max_score:\n",
        "          max_score = score\n",
        "          output_label = label\n",
        "    pred_labels.append(output_label)"
      ],
      "metadata": {
        "colab": {
          "base_uri": "https://localhost:8080/"
        },
        "id": "G0eMdBEAF1yH",
        "outputId": "0f7e4317-59c1-4d4a-82f5-c374982a2cd4"
      },
      "execution_count": 33,
      "outputs": [
        {
          "output_type": "stream",
          "name": "stderr",
          "text": [
            "WARNING:root:frame length (1103) is greater than FFT size (512), frame will be truncated. Increase NFFT to avoid.\n",
            "WARNING:root:frame length (1103) is greater than FFT size (512), frame will be truncated. Increase NFFT to avoid.\n",
            "WARNING:root:frame length (1103) is greater than FFT size (512), frame will be truncated. Increase NFFT to avoid.\n",
            "WARNING:root:frame length (1103) is greater than FFT size (512), frame will be truncated. Increase NFFT to avoid.\n",
            "WARNING:root:frame length (1103) is greater than FFT size (512), frame will be truncated. Increase NFFT to avoid.\n",
            "WARNING:root:frame length (1103) is greater than FFT size (512), frame will be truncated. Increase NFFT to avoid.\n",
            "WARNING:root:frame length (1103) is greater than FFT size (512), frame will be truncated. Increase NFFT to avoid.\n",
            "WARNING:root:frame length (1103) is greater than FFT size (512), frame will be truncated. Increase NFFT to avoid.\n",
            "WARNING:root:frame length (1103) is greater than FFT size (512), frame will be truncated. Increase NFFT to avoid.\n",
            "WARNING:root:frame length (1103) is greater than FFT size (512), frame will be truncated. Increase NFFT to avoid.\n",
            "WARNING:root:frame length (1103) is greater than FFT size (512), frame will be truncated. Increase NFFT to avoid.\n",
            "WARNING:root:frame length (1103) is greater than FFT size (512), frame will be truncated. Increase NFFT to avoid.\n",
            "WARNING:root:frame length (1103) is greater than FFT size (512), frame will be truncated. Increase NFFT to avoid.\n",
            "WARNING:root:frame length (1103) is greater than FFT size (512), frame will be truncated. Increase NFFT to avoid.\n",
            "WARNING:root:frame length (1103) is greater than FFT size (512), frame will be truncated. Increase NFFT to avoid.\n",
            "WARNING:root:frame length (1103) is greater than FFT size (512), frame will be truncated. Increase NFFT to avoid.\n",
            "WARNING:root:frame length (1103) is greater than FFT size (512), frame will be truncated. Increase NFFT to avoid.\n",
            "WARNING:root:frame length (1103) is greater than FFT size (512), frame will be truncated. Increase NFFT to avoid.\n",
            "WARNING:root:frame length (1103) is greater than FFT size (512), frame will be truncated. Increase NFFT to avoid.\n",
            "WARNING:root:frame length (1103) is greater than FFT size (512), frame will be truncated. Increase NFFT to avoid.\n"
          ]
        }
      ]
    },
    {
      "cell_type": "code",
      "source": [
        "print(real_labels,\"/t\" )\n",
        "print(pred_labels,\"/t\" )"
      ],
      "metadata": {
        "colab": {
          "base_uri": "https://localhost:8080/"
        },
        "id": "KoroA3atF4ZX",
        "outputId": "41f116eb-c816-4107-b46e-eb36865df7fe"
      },
      "execution_count": 34,
      "outputs": [
        {
          "output_type": "stream",
          "name": "stdout",
          "text": [
            "['Prathimadhyama', 'Prathimadhyama', 'Prathimadhyama', 'Prathimadhyama', 'Prathimadhyama', 'Prathimadhyama', 'Prathimadhyama', 'Prathimadhyama', 'Prathimadhyama', 'Prathimadhyama', 'Shuddhamadhyama', 'Shuddhamadhyama', 'Shuddhamadhyama', 'Shuddhamadhyama', 'Shuddhamadhyama', 'Shuddhamadhyama', 'Shuddhamadhyama', 'Shuddhamadhyama', 'Shuddhamadhyama', 'Shuddhamadhyama'] /t\n",
            "['Prathimadhyama', 'Prathimadhyama', 'Prathimadhyama', 'Prathimadhyama', 'Prathimadhyama', 'Prathimadhyama', 'Prathimadhyama', 'Prathimadhyama', 'Prathimadhyama', 'Prathimadhyama', 'Shuddhamadhyama', 'Shuddhamadhyama', 'Shuddhamadhyama', 'Shuddhamadhyama', 'Shuddhamadhyama', 'Shuddhamadhyama', 'Shuddhamadhyama', 'Shuddhamadhyama', 'Shuddhamadhyama', 'Shuddhamadhyama'] /t\n"
          ]
        }
      ]
    },
    {
      "cell_type": "markdown",
      "source": [
        "This function prints and plots the confusion matrix"
      ],
      "metadata": {
        "id": "AkX69cbIF7HC"
      }
    },
    {
      "cell_type": "code",
      "source": [
        "  def plot_confusion_matrix(cm, classes,normalize=False,title='Confusion matrix', cmap=plt.cm.Blues):\n",
        "    if normalize:\n",
        "        cm = cm.astype('float') / cm.sum(axis=1)[:, np.newaxis]\n",
        "        print(\"Normalized confusion matrix\")\n",
        "    else:\n",
        "        print('Confusion matrix, without normalization')\n",
        "\n",
        "    print(cm)\n",
        "\n",
        "    plt.imshow(cm, interpolation='nearest', cmap=cmap)\n",
        "    plt.title(title)\n",
        "    plt.colorbar()\n",
        "    tick_marks = np.arange(len(classes))\n",
        "    plt.xticks(tick_marks, classes, rotation=45)\n",
        "    plt.yticks(tick_marks, classes)\n",
        "\n",
        "    fmt = '.1f' if normalize else 'd'\n",
        "    thresh = cm.max() / 2.\n",
        "    for i, j in itertools.product(range(cm.shape[0]), range(cm.shape[1])):\n",
        "        plt.text(j, i, format(cm[i, j], fmt),\n",
        "                 horizontalalignment=\"center\",\n",
        "                 color=\"white\" if cm[i, j] > thresh else \"black\")\n",
        "\n",
        "    plt.tight_layout()\n",
        "    plt.ylabel('True label')\n",
        "    plt.xlabel('Predicted label')\n"
      ],
      "metadata": {
        "id": "1SvEgGfLF-XH"
      },
      "execution_count": 35,
      "outputs": []
    },
    {
      "cell_type": "markdown",
      "source": [
        "Here, we compute the confusion matrix and visualize it"
      ],
      "metadata": {
        "id": "C8ygAgZXGAvy"
      }
    },
    {
      "cell_type": "code",
      "source": [
        "cm = confusion_matrix(real_labels, pred_labels)\n",
        "np.set_printoptions(precision=2)\n",
        "classes = [\"Prathimadhyama\",\"Shuddhamadhyama\"]\n",
        "plt.figure()\n",
        "plot_confusion_matrix(cm, classes=classes, normalize=True, title='Normalized confusion matrix')\n",
        "\n",
        "plt.show()"
      ],
      "metadata": {
        "colab": {
          "base_uri": "https://localhost:8080/",
          "height": 365
        },
        "id": "QgYb_B7IGCcW",
        "outputId": "f9325966-e366-4606-814f-2e7c7223f32a"
      },
      "execution_count": 36,
      "outputs": [
        {
          "output_type": "stream",
          "name": "stdout",
          "text": [
            "Normalized confusion matrix\n",
            "[[1. 0.]\n",
            " [0. 1.]]\n"
          ]
        },
        {
          "output_type": "display_data",
          "data": {
            "image/png": "[encoded data removed]",
            "text/plain": [
              "<Figure size 432x288 with 2 Axes>"
            ]
          },
          "metadata": {
            "needs_background": "light"
          }
        }
      ]
    },
    {
      "cell_type": "markdown",
      "source": [
        "For an even better evaluation, It’s always recommended to use the precision and recall metrics for the classification problem. sklearn made it easy for us to have a detailed report about the precision and recall of our multiclass classification. We just need to provide the real and predicted values and our classes names."
      ],
      "metadata": {
        "id": "XsYcjtnkGE1E"
      }
    },
    {
      "cell_type": "code",
      "source": [
        "from sklearn.metrics import classification_report\n",
        "print(classification_report(real_labels, pred_labels, target_names=classes))"
      ],
      "metadata": {
        "colab": {
          "base_uri": "https://localhost:8080/"
        },
        "id": "i3c0l7PVGHDk",
        "outputId": "fdf95ac3-97da-45fc-dd6c-fe575b2bbc05"
      },
      "execution_count": 37,
      "outputs": [
        {
          "output_type": "stream",
          "name": "stdout",
          "text": [
            "                 precision    recall  f1-score   support\n",
            "\n",
            " Prathimadhyama       1.00      1.00      1.00        10\n",
            "Shuddhamadhyama       1.00      1.00      1.00        10\n",
            "\n",
            "       accuracy                           1.00        20\n",
            "      macro avg       1.00      1.00      1.00        20\n",
            "   weighted avg       1.00      1.00      1.00        20\n",
            "\n"
          ]
        }
      ]
    },
    {
      "cell_type": "markdown",
      "source": [
        "Conclusion:-\n",
        "\n",
        "That brings us to the end of this tutorial. The performance of our Hidden Markov models is relatively average, and obviously, there is a huge room for improvement."
      ],
      "metadata": {
        "id": "DQzOK671GJIW"
      }
    }
  ]
}