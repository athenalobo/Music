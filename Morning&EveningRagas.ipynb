{
  "cells": [
    {
      "cell_type": "markdown",
      "metadata": {
        "id": "view-in-github",
        "colab_type": "text"
      },
      "source": [
        "<a href=\"https://colab.research.google.com/github/athenalobo/Music/blob/main/Morning%26EveningRagas.ipynb\" target=\"_parent\"><img src=\"https://colab.research.google.com/assets/colab-badge.svg\" alt=\"Open In Colab\"/></a>"
      ]
    },
    {
      "cell_type": "markdown",
      "metadata": {
        "id": "vPaN-QosuL-a"
      },
      "source": [
        "importing the necessary libraries"
      ]
    },
    {
      "cell_type": "code",
      "execution_count": 1,
      "metadata": {
        "id": "vVrC9cc4mm20",
        "colab": {
          "base_uri": "https://localhost:8080/"
        },
        "outputId": "5090337d-b098-4d76-ff61-91e3c9ccd1dc"
      },
      "outputs": [
        {
          "output_type": "stream",
          "name": "stdout",
          "text": [
            "Requirement already satisfied: kaggle in /usr/local/lib/python3.7/dist-packages (1.5.12)\n",
            "Requirement already satisfied: python-dateutil in /usr/local/lib/python3.7/dist-packages (from kaggle) (2.8.2)\n",
            "Requirement already satisfied: tqdm in /usr/local/lib/python3.7/dist-packages (from kaggle) (4.62.3)\n",
            "Requirement already satisfied: requests in /usr/local/lib/python3.7/dist-packages (from kaggle) (2.23.0)\n",
            "Requirement already satisfied: six>=1.10 in /usr/local/lib/python3.7/dist-packages (from kaggle) (1.15.0)\n",
            "Requirement already satisfied: certifi in /usr/local/lib/python3.7/dist-packages (from kaggle) (2021.10.8)\n",
            "Requirement already satisfied: python-slugify in /usr/local/lib/python3.7/dist-packages (from kaggle) (5.0.2)\n",
            "Requirement already satisfied: urllib3 in /usr/local/lib/python3.7/dist-packages (from kaggle) (1.24.3)\n",
            "Requirement already satisfied: text-unidecode>=1.3 in /usr/local/lib/python3.7/dist-packages (from python-slugify->kaggle) (1.3)\n",
            "Requirement already satisfied: chardet<4,>=3.0.2 in /usr/local/lib/python3.7/dist-packages (from requests->kaggle) (3.0.4)\n",
            "Requirement already satisfied: idna<3,>=2.5 in /usr/local/lib/python3.7/dist-packages (from requests->kaggle) (2.10)\n",
            "Requirement already satisfied: python_speech_features in /usr/local/lib/python3.7/dist-packages (0.6)\n",
            "Requirement already satisfied: hmmlearn in /usr/local/lib/python3.7/dist-packages (0.2.6)\n",
            "Requirement already satisfied: scipy>=0.19 in /usr/local/lib/python3.7/dist-packages (from hmmlearn) (1.4.1)\n",
            "Requirement already satisfied: numpy>=1.10 in /usr/local/lib/python3.7/dist-packages (from hmmlearn) (1.19.5)\n",
            "Requirement already satisfied: scikit-learn>=0.16 in /usr/local/lib/python3.7/dist-packages (from hmmlearn) (1.0.2)\n",
            "Requirement already satisfied: joblib>=0.11 in /usr/local/lib/python3.7/dist-packages (from scikit-learn>=0.16->hmmlearn) (1.1.0)\n",
            "Requirement already satisfied: threadpoolctl>=2.0.0 in /usr/local/lib/python3.7/dist-packages (from scikit-learn>=0.16->hmmlearn) (3.1.0)\n",
            "Requirement already satisfied: pydub in /usr/local/lib/python3.7/dist-packages (0.25.1)\n"
          ]
        }
      ],
      "source": [
        "!pip install kaggle\n",
        "!pip install python_speech_features\n",
        "!pip install hmmlearn\n",
        "!pip install pydub\n",
        "from python_speech_features import mfcc, logfbank\n",
        "from scipy.io import wavfile\n",
        "import numpy as np\n",
        "import matplotlib.pyplot as plt\n",
        "from hmmlearn import hmm\n",
        "from sklearn.metrics import confusion_matrix\n",
        "import itertools\n",
        "import os"
      ]
    },
    {
      "cell_type": "markdown",
      "metadata": {
        "id": "t8HpI3ilufQ4"
      },
      "source": [
        "importing the dataset through drive"
      ]
    },
    {
      "cell_type": "code",
      "execution_count": 2,
      "metadata": {
        "id": "Za_ER1NMV5Cq",
        "colab": {
          "base_uri": "https://localhost:8080/"
        },
        "outputId": "8d7b917d-c8ae-4857-d96c-de3a8884acf6"
      },
      "outputs": [
        {
          "output_type": "stream",
          "name": "stdout",
          "text": [
            "Drive already mounted at /content/drive; to attempt to forcibly remount, call drive.mount(\"/content/drive\", force_remount=True).\n"
          ]
        }
      ],
      "source": [
        "from google.colab import drive\n",
        "drive.mount('/content/drive')"
      ]
    },
    {
      "cell_type": "markdown",
      "metadata": {
        "id": "hGkKExiDutz5"
      },
      "source": [
        "Picking one song from the dataset(evening 1) and extracting mfcc and filterbank features (mfcc is used to concisely represent song waveforms and filterbanks are applied to extract features)"
      ]
    },
    {
      "cell_type": "code",
      "execution_count": 3,
      "metadata": {
        "id": "ujhPahN-oN_v",
        "colab": {
          "base_uri": "https://localhost:8080/"
        },
        "outputId": "d5400299-3455-4287-fea2-05262b5e7b1d"
      },
      "outputs": [
        {
          "output_type": "stream",
          "name": "stderr",
          "text": [
            "WARNING:root:frame length (1103) is greater than FFT size (512), frame will be truncated. Increase NFFT to avoid.\n",
            "WARNING:root:frame length (1103) is greater than FFT size (512), frame will be truncated. Increase NFFT to avoid.\n"
          ]
        }
      ],
      "source": [
        "sampling_freq, audio = wavfile.read(\"/content/drive/MyDrive/m&e/train/Evening/Evening 1.wav\")\n",
        "\n",
        "mfcc_features = mfcc(audio, sampling_freq)\n",
        "filterbank_features = logfbank(audio, sampling_freq)"
      ]
    },
    {
      "cell_type": "markdown",
      "metadata": {
        "id": "bhpfBjqswhLr"
      },
      "source": [
        "Displaying the shapes of the extracted features"
      ]
    },
    {
      "cell_type": "code",
      "execution_count": 4,
      "metadata": {
        "colab": {
          "base_uri": "https://localhost:8080/"
        },
        "id": "d9XE10Rz3J7S",
        "outputId": "448c969b-9cfa-4021-d285-07cdb6086940"
      },
      "outputs": [
        {
          "output_type": "stream",
          "name": "stdout",
          "text": [
            "\n",
            "MFCC:\n",
            "Number of windows = 6185\n",
            "Length of each feature = 13\n",
            "\n",
            "Filter bank:\n",
            "Number of windows = 6185\n",
            "Length of each feature = 26\n"
          ]
        }
      ],
      "source": [
        "print ('\\nMFCC:\\nNumber of windows =', mfcc_features.shape[0])\n",
        "print ('Length of each feature =', mfcc_features.shape[1])\n",
        "print ('\\nFilter bank:\\nNumber of windows =', filterbank_features.shape[0])\n",
        "print ('Length of each feature =', filterbank_features.shape[1])"
      ]
    },
    {
      "cell_type": "markdown",
      "metadata": {
        "id": "Gx4JezUsw5An"
      },
      "source": [
        "Visualising the mfcc features for the first song of each genre"
      ]
    },
    {
      "cell_type": "code",
      "metadata": {
        "colab": {
          "base_uri": "https://localhost:8080/",
          "height": 376
        },
        "id": "snb4OrZXKLri",
        "outputId": "b37be7a4-bc28-4b2f-ea0b-a0d0458a4538"
      },
      "source": [
        "import glob\n",
        "import os.path as path\n",
        "genre_list = [\"Morning\",\"Evening\"]\n",
        "print(len(genre_list))\n",
        "figure = plt.figure(figsize=(20,3))\n",
        "for idx ,genre in enumerate(genre_list): \n",
        "   example_data_path = '/content/drive/MyDrive/m&e/train' \n",
        "   file_paths = glob.glob(path.join(example_data_path,genre, '*.wav'))\n",
        "   sampling_freq, audio = wavfile.read(file_paths[0])\n",
        "   mfcc_features = mfcc(audio, sampling_freq, nfft=1500)\n",
        "   print(file_paths[0], mfcc_features.shape[0])\n",
        "   plt.yscale('linear')\n",
        "   plt.matshow((mfcc_features.T)[:,:300])\n",
        "   plt.text(150, -10, genre, horizontalalignment='center', fontsize=20)\n",
        " \n",
        "plt.yscale('linear')\n",
        "plt.show()"
      ],
      "execution_count": 5,
      "outputs": [
        {
          "output_type": "stream",
          "name": "stdout",
          "text": [
            "2\n",
            "/content/drive/MyDrive/m&e/train/Morning/Morning 3.wav 6077\n",
            "/content/drive/MyDrive/m&e/train/Evening/Evening 1.wav 6185\n"
          ]
        },
        {
          "output_type": "display_data",
          "data": {
            "image/png": "[encoded data removed]",
            "text/plain": [
              "<Figure size 1440x216 with 1 Axes>"
            ]
          },
          "metadata": {
            "needs_background": "light"
          }
        },
        {
          "output_type": "display_data",
          "data": {
            "image/png": "[encoded data removed]",
            "text/plain": [
              "<Figure size 1152x144 with 1 Axes>"
            ]
          },
          "metadata": {
            "needs_background": "light"
          }
        },
        {
          "output_type": "display_data",
          "data": {
            "image/png": "[encoded data removed]",
            "text/plain": [
              "<Figure size 1152x144 with 1 Axes>"
            ]
          },
          "metadata": {
            "needs_background": "light"
          }
        }
      ]
    },
    {
      "cell_type": "markdown",
      "metadata": {
        "id": "cuMZFUZ-CzS1"
      },
      "source": [
        "Building a class to handle hmm training"
      ]
    },
    {
      "cell_type": "code",
      "execution_count": 41,
      "metadata": {
        "id": "y9XIDDvv0A--"
      },
      "outputs": [],
      "source": [
        "class Trainer(object):\n",
        "    def __init__(self, model_name='GaussianHMM', n_components=4, cov_type='diag', n_iter=1000):\n",
        "        self.model_name = model_name\n",
        "        self.n_components = n_components\n",
        "        self.cov_type = cov_type\n",
        "        self.n_iter = n_iter\n",
        "        self.models = []\n",
        "\n",
        "        if self.model_name == 'GaussianHMM':\n",
        "            self.model = hmm.GaussianHMM(n_components=self.n_components,\n",
        "                                         covariance_type=self.cov_type, n_iter=self.n_iter)\n",
        "        else:\n",
        "            raise TypeError('Invalid model type')\n",
        "\n",
        "    # X is a 2D numpy array where each row is 13D\n",
        "    def train(self, X):\n",
        "        np.seterr(all='ignore')\n",
        "        self.models.append(self.model.fit(X))\n",
        "\n",
        "    # Run the model on input data\n",
        "    def get_score(self, input_data):\n",
        "        return self.model.score(input_data)\n",
        "   \n",
        "  \n",
        "\n",
        "   "
      ]
    },
    {
      "cell_type": "markdown",
      "metadata": {
        "id": "nYeBpB1tE5p7"
      },
      "source": [
        "training hidden markov models (to do this we iterate over the songs in the subfolder in order to extract the features and append it to a variable.\n",
        "We should store all trained HMM models, so we will be able to predict the class of unseen songs)"
      ]
    },
    {
      "cell_type": "code",
      "execution_count": 42,
      "metadata": {
        "colab": {
          "base_uri": "https://localhost:8080/"
        },
        "id": "K8TJGEHlCt9i",
        "outputId": "d6611e58-6a04-4f4b-dbed-645b9110926c"
      },
      "outputs": [
        {
          "output_type": "stream",
          "name": "stdout",
          "text": [
            "X.shape = (113736, 13)\n"
          ]
        },
        {
          "output_type": "stream",
          "name": "stderr",
          "text": [
            "WARNING:root:frame length (1103) is greater than FFT size (512), frame will be truncated. Increase NFFT to avoid.\n",
            "WARNING:root:frame length (1103) is greater than FFT size (512), frame will be truncated. Increase NFFT to avoid.\n",
            "WARNING:root:frame length (1103) is greater than FFT size (512), frame will be truncated. Increase NFFT to avoid.\n",
            "WARNING:root:frame length (1103) is greater than FFT size (512), frame will be truncated. Increase NFFT to avoid.\n",
            "WARNING:root:frame length (1103) is greater than FFT size (512), frame will be truncated. Increase NFFT to avoid.\n",
            "WARNING:root:frame length (1103) is greater than FFT size (512), frame will be truncated. Increase NFFT to avoid.\n",
            "WARNING:root:frame length (1103) is greater than FFT size (512), frame will be truncated. Increase NFFT to avoid.\n",
            "WARNING:root:frame length (1103) is greater than FFT size (512), frame will be truncated. Increase NFFT to avoid.\n",
            "WARNING:root:frame length (1103) is greater than FFT size (512), frame will be truncated. Increase NFFT to avoid.\n",
            "WARNING:root:frame length (1103) is greater than FFT size (512), frame will be truncated. Increase NFFT to avoid.\n",
            "WARNING:root:frame length (1103) is greater than FFT size (512), frame will be truncated. Increase NFFT to avoid.\n",
            "WARNING:root:frame length (1103) is greater than FFT size (512), frame will be truncated. Increase NFFT to avoid.\n",
            "WARNING:root:frame length (1103) is greater than FFT size (512), frame will be truncated. Increase NFFT to avoid.\n",
            "WARNING:root:frame length (1103) is greater than FFT size (512), frame will be truncated. Increase NFFT to avoid.\n",
            "WARNING:root:frame length (1103) is greater than FFT size (512), frame will be truncated. Increase NFFT to avoid.\n",
            "WARNING:root:frame length (1103) is greater than FFT size (512), frame will be truncated. Increase NFFT to avoid.\n",
            "WARNING:root:frame length (1103) is greater than FFT size (512), frame will be truncated. Increase NFFT to avoid.\n",
            "WARNING:root:frame length (1103) is greater than FFT size (512), frame will be truncated. Increase NFFT to avoid.\n",
            "WARNING:root:frame length (1103) is greater than FFT size (512), frame will be truncated. Increase NFFT to avoid.\n"
          ]
        },
        {
          "output_type": "stream",
          "name": "stdout",
          "text": [
            "X.shape = (114077, 13)\n"
          ]
        }
      ],
      "source": [
        "    hmm_models = []\n",
        "    input_folder = '/content/drive/MyDrive/m&e/train'\n",
        "\n",
        "    # Parse the input directory\n",
        "    for dirname in os.listdir(input_folder):\n",
        "        # Get the name of the subfolder\n",
        "        subfolder = os.path.join(input_folder, dirname)\n",
        "\n",
        "        if not os.path.isdir(subfolder):\n",
        "            continue\n",
        "\n",
        "        # Extract the label\n",
        "        label = subfolder[subfolder.rfind('/') + 1:]\n",
        "\n",
        "        # Initialize variables\n",
        "        X = np.array([])\n",
        "        y_words = []\n",
        "\n",
        "        # Iterate through the audio files (leaving 1 file for testing in each class)\n",
        "        for filename in [x for x in os.listdir(subfolder) if x.endswith('.wav')][:-1]:\n",
        "            # Read the input file\n",
        "            filepath = os.path.join(subfolder, filename)\n",
        "            sampling_freq, audio = wavfile.read(filepath)\n",
        "\n",
        "            # Extract MFCC features\n",
        "            mfcc_features = mfcc(audio, sampling_freq)\n",
        "\n",
        "            # Append to the variable X\n",
        "            if len(X) == 0:\n",
        "                X = mfcc_features\n",
        "            else:\n",
        "                X = np.append(X, mfcc_features, axis=0)\n",
        "\n",
        "            # Append the label\n",
        "            y_words.append(label)\n",
        "\n",
        "        print('X.shape =', X.shape)\n",
        "        # Train and save HMM model\n",
        "        hmm_trainer = Trainer(n_components=10)\n",
        "        hmm_trainer.train(X)\n",
        "        hmm_models.append((hmm_trainer, label))\n",
        "        hmm_trainer = None"
      ]
    },
    {
      "cell_type": "markdown",
      "metadata": {
        "id": "9B4maZpUFkoq"
      },
      "source": [
        "Evaluating our models (to do this, we iterate over the test dataset subfolders and extract the features. Then we iterate through all HMM models and pick the one with the highest score)"
      ]
    },
    {
      "cell_type": "code",
      "metadata": {
        "colab": {
          "base_uri": "https://localhost:8080/"
        },
        "id": "Hgrf1EYDM_95",
        "outputId": "4424c575-e8f5-47bf-9c00-8506b51690e8"
      },
      "source": [
        "input_folder = '/content/drive/MyDrive/m&e/test'\n",
        "real_labels = []\n",
        "pred_labels = []\n",
        "for dirname in os.listdir(input_folder):\n",
        "\n",
        "  subfolder = os.path.join(input_folder, dirname)\n",
        "  if not os.path.isdir(subfolder):\n",
        "    continue\n",
        "  # Extract the label\n",
        "  label_real = subfolder[subfolder.rfind('/') + 1:]\n",
        "\n",
        "  for filename in [x for x in os.listdir(subfolder) if x.endswith('.wav')]:\n",
        "    real_labels.append(label_real)\n",
        "    filepath = os.path.join(subfolder, filename)\n",
        "    sampling_freq, audio = wavfile.read(filepath)\n",
        "    mfcc_features = mfcc(audio, sampling_freq)\n",
        "    max_score = -9999999999999999999\n",
        "    output_label = None\n",
        "    for item in hmm_models:\n",
        "       hmm_model, label = item\n",
        "       score = hmm_model.get_score(mfcc_features)\n",
        "       if score > max_score:\n",
        "          max_score = score\n",
        "          output_label = label\n",
        "    pred_labels.append(output_label)"
      ],
      "execution_count": 43,
      "outputs": [
        {
          "output_type": "stream",
          "name": "stderr",
          "text": [
            "WARNING:root:frame length (1103) is greater than FFT size (512), frame will be truncated. Increase NFFT to avoid.\n",
            "WARNING:root:frame length (1103) is greater than FFT size (512), frame will be truncated. Increase NFFT to avoid.\n",
            "WARNING:root:frame length (1103) is greater than FFT size (512), frame will be truncated. Increase NFFT to avoid.\n",
            "WARNING:root:frame length (1103) is greater than FFT size (512), frame will be truncated. Increase NFFT to avoid.\n",
            "WARNING:root:frame length (1103) is greater than FFT size (512), frame will be truncated. Increase NFFT to avoid.\n",
            "WARNING:root:frame length (1103) is greater than FFT size (512), frame will be truncated. Increase NFFT to avoid.\n",
            "WARNING:root:frame length (1103) is greater than FFT size (512), frame will be truncated. Increase NFFT to avoid.\n",
            "WARNING:root:frame length (1103) is greater than FFT size (512), frame will be truncated. Increase NFFT to avoid.\n",
            "WARNING:root:frame length (1103) is greater than FFT size (512), frame will be truncated. Increase NFFT to avoid.\n",
            "WARNING:root:frame length (1103) is greater than FFT size (512), frame will be truncated. Increase NFFT to avoid.\n"
          ]
        }
      ]
    },
    {
      "cell_type": "code",
      "execution_count": 44,
      "metadata": {
        "colab": {
          "base_uri": "https://localhost:8080/"
        },
        "id": "Q2o5X_WADiGK",
        "outputId": "b7555362-0a45-46e7-dc51-06cd54eb14bc"
      },
      "outputs": [
        {
          "output_type": "stream",
          "name": "stdout",
          "text": [
            "['Evening', 'Evening', 'Evening', 'Evening', 'Evening', 'Evening', 'Evening', 'Evening', 'Evening', 'Evening', 'Morning', 'Morning', 'Morning', 'Morning', 'Morning', 'Morning', 'Morning', 'Morning', 'Morning', 'Morning'] /t\n",
            "['Evening', 'Evening', 'Evening', 'Evening', 'Evening', 'Evening', 'Evening', 'Evening', 'Evening', 'Evening', 'Morning', 'Morning', 'Morning', 'Morning', 'Morning', 'Morning', 'Morning', 'Morning', 'Morning', 'Morning'] /t\n"
          ]
        }
      ],
      "source": [
        "print(real_labels,\"/t\" )\n",
        "print(pred_labels,\"/t\" )"
      ]
    },
    {
      "cell_type": "markdown",
      "metadata": {
        "id": "dwfEjQ8XGgWX"
      },
      "source": [
        "This function prints and plots the confusion matrix"
      ]
    },
    {
      "cell_type": "code",
      "execution_count": 45,
      "metadata": {
        "id": "vPzmMNC21Tkg"
      },
      "outputs": [],
      "source": [
        "  def plot_confusion_matrix(cm, classes,normalize=False,title='Confusion matrix', cmap=plt.cm.Blues):\n",
        "    if normalize:\n",
        "        cm = cm.astype('float') / cm.sum(axis=1)[:, np.newaxis]\n",
        "        print(\"Normalized confusion matrix\")\n",
        "    else:\n",
        "        print('Confusion matrix, without normalization')\n",
        "\n",
        "    print(cm)\n",
        "\n",
        "    plt.imshow(cm, interpolation='nearest', cmap=cmap)\n",
        "    plt.title(title)\n",
        "    plt.colorbar()\n",
        "    tick_marks = np.arange(len(classes))\n",
        "    plt.xticks(tick_marks, classes, rotation=45)\n",
        "    plt.yticks(tick_marks, classes)\n",
        "\n",
        "    fmt = '.1f' if normalize else 'd'\n",
        "    thresh = cm.max() / 2.\n",
        "    for i, j in itertools.product(range(cm.shape[0]), range(cm.shape[1])):\n",
        "        plt.text(j, i, format(cm[i, j], fmt),\n",
        "                 horizontalalignment=\"center\",\n",
        "                 color=\"white\" if cm[i, j] > thresh else \"black\")\n",
        "\n",
        "    plt.tight_layout()\n",
        "    plt.ylabel('True label')\n",
        "    plt.xlabel('Predicted label')\n"
      ]
    },
    {
      "cell_type": "markdown",
      "metadata": {
        "id": "C5EGEJiaGtNb"
      },
      "source": [
        "Here, we compute the confusion matrix and visualize it"
      ]
    },
    {
      "cell_type": "code",
      "execution_count": 48,
      "metadata": {
        "colab": {
          "base_uri": "https://localhost:8080/",
          "height": 365
        },
        "id": "nD1v_dS7P2E-",
        "outputId": "714cf349-b451-4088-b5cd-1db73473dc7c"
      },
      "outputs": [
        {
          "output_type": "stream",
          "name": "stdout",
          "text": [
            "Normalized confusion matrix\n",
            "[[1. 0.]\n",
            " [0. 1.]]\n"
          ]
        },
        {
          "output_type": "display_data",
          "data": {
            "image/png": "[encoded data removed]",
            "text/plain": [
              "<Figure size 432x288 with 2 Axes>"
            ]
          },
          "metadata": {
            "needs_background": "light"
          }
        }
      ],
      "source": [
        "cm = confusion_matrix(real_labels, pred_labels)\n",
        "np.set_printoptions(precision=2)\n",
        "classes = [\"morning\",\"evening\"]\n",
        "plt.figure()\n",
        "plot_confusion_matrix(cm, classes=classes, normalize=True, title='Normalized confusion matrix')\n",
        "\n",
        "plt.show()"
      ]
    },
    {
      "cell_type": "markdown",
      "metadata": {
        "id": "hldEiBcGDXSU"
      },
      "source": [
        "**For an even better evaluation, It’s always recommended to use the precision and recall metrics for the classification problem. sklearn made it easy for us to have a detailed report about the precision and recall of our multiclass classification. We just need to provide the real and predicted values and our classes names.**"
      ]
    },
    {
      "cell_type": "code",
      "execution_count": 49,
      "metadata": {
        "colab": {
          "base_uri": "https://localhost:8080/"
        },
        "id": "yodU-G4UROBM",
        "outputId": "fd61682f-8a2c-4bf0-bc10-ffb87af610a7"
      },
      "outputs": [
        {
          "output_type": "stream",
          "name": "stdout",
          "text": [
            "              precision    recall  f1-score   support\n",
            "\n",
            "     morning       1.00      1.00      1.00        10\n",
            "     evening       1.00      1.00      1.00        10\n",
            "\n",
            "    accuracy                           1.00        20\n",
            "   macro avg       1.00      1.00      1.00        20\n",
            "weighted avg       1.00      1.00      1.00        20\n",
            "\n"
          ]
        }
      ],
      "source": [
        "from sklearn.metrics import classification_report\n",
        "print(classification_report(real_labels, pred_labels, target_names=classes))"
      ]
    },
    {
      "cell_type": "markdown",
      "metadata": {
        "id": "IpnJmfLQDnK8"
      },
      "source": [
        "**Conclusion**:-\n",
        "\n",
        "**That brings us to the end of this tutorial. The performance of our Hidden Markov models is relatively average, and obviously, there is a huge room for improvement.**"
      ]
    }
  ],
  "metadata": {
    "colab": {
      "name": "Morning&EveningRagas",
      "provenance": [],
      "collapsed_sections": [],
      "authorship_tag": "ABX9TyPJb3mYVZArI0sribaKvjS2",
      "include_colab_link": true
    },
    "kernelspec": {
      "display_name": "Python 3",
      "name": "python3"
    },
    "language_info": {
      "name": "python"
    }
  },
  "nbformat": 4,
  "nbformat_minor": 0
}